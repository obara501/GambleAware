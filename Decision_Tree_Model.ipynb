{
  "cells": [
    {
      "cell_type": "markdown",
      "metadata": {
        "id": "GOlKt9xifcac"
      },
      "source": [
        "Import Relevant Libraries"
      ]
    },
    {
      "cell_type": "code",
      "execution_count": 44,
      "metadata": {
        "id": "S4p9U31kc9I8"
      },
      "outputs": [],
      "source": [
        "#Import Packages\n",
        "from __future__ import print_function\n",
        "import numpy as np\n",
        "import pandas as pd\n",
        "import matplotlib.pyplot as plt\n",
        "import seaborn as sns\n",
        "from sklearn.model_selection import train_test_split\n",
        "from sklearn.tree import DecisionTreeClassifier\n",
        "from sklearn.metrics import accuracy_score\n",
        "from sklearn.metrics import precision_score\n",
        "from sklearn.metrics import recall_score\n",
        "from sklearn.metrics import f1_score\n",
        "from sklearn.metrics import confusion_matrix"
      ]
    },
    {
      "cell_type": "markdown",
      "metadata": {
        "id": "fY4At8kVhaps"
      },
      "source": [
        "Data Exploration"
      ]
    },
    {
      "cell_type": "code",
      "execution_count": 46,
      "metadata": {
        "id": "M_DFFoIEhd5X"
      },
      "outputs": [],
      "source": [
        "#Read Data of our generated csv file\n",
        "data = pd.read_csv('C:/Users/j3ff/Coding Projects/GambleAware/testplayer.csv')"
      ]
    },
    {
      "cell_type": "code",
      "execution_count": 47,
      "metadata": {
        "colab": {
          "base_uri": "https://localhost:8080/",
          "height": 206
        },
        "id": "03yFhMkAiGFM",
        "outputId": "16038620-c357-4f62-8a2b-b90cec3db21f"
      },
      "outputs": [
        {
          "data": {
            "text/html": [
              "<div>\n",
              "<style scoped>\n",
              "    .dataframe tbody tr th:only-of-type {\n",
              "        vertical-align: middle;\n",
              "    }\n",
              "\n",
              "    .dataframe tbody tr th {\n",
              "        vertical-align: top;\n",
              "    }\n",
              "\n",
              "    .dataframe thead th {\n",
              "        text-align: right;\n",
              "    }\n",
              "</style>\n",
              "<table border=\"1\" class=\"dataframe\">\n",
              "  <thead>\n",
              "    <tr style=\"text-align: right;\">\n",
              "      <th></th>\n",
              "      <th>User Id</th>\n",
              "      <th>Time</th>\n",
              "      <th>Win/Loss Ratio</th>\n",
              "      <th>Number of Deposits</th>\n",
              "      <th>label</th>\n",
              "    </tr>\n",
              "  </thead>\n",
              "  <tbody>\n",
              "    <tr>\n",
              "      <th>0</th>\n",
              "      <td>1</td>\n",
              "      <td>1</td>\n",
              "      <td>0.860352</td>\n",
              "      <td>1</td>\n",
              "      <td>0</td>\n",
              "    </tr>\n",
              "    <tr>\n",
              "      <th>1</th>\n",
              "      <td>2</td>\n",
              "      <td>6</td>\n",
              "      <td>0.352193</td>\n",
              "      <td>8</td>\n",
              "      <td>4</td>\n",
              "    </tr>\n",
              "    <tr>\n",
              "      <th>2</th>\n",
              "      <td>3</td>\n",
              "      <td>12</td>\n",
              "      <td>0.506405</td>\n",
              "      <td>2</td>\n",
              "      <td>4</td>\n",
              "    </tr>\n",
              "    <tr>\n",
              "      <th>3</th>\n",
              "      <td>4</td>\n",
              "      <td>0</td>\n",
              "      <td>0.910978</td>\n",
              "      <td>1</td>\n",
              "      <td>0</td>\n",
              "    </tr>\n",
              "    <tr>\n",
              "      <th>4</th>\n",
              "      <td>5</td>\n",
              "      <td>2</td>\n",
              "      <td>0.009228</td>\n",
              "      <td>11</td>\n",
              "      <td>4</td>\n",
              "    </tr>\n",
              "  </tbody>\n",
              "</table>\n",
              "</div>"
            ],
            "text/plain": [
              "   User Id  Time  Win/Loss Ratio  Number of Deposits  label\n",
              "0        1     1        0.860352                   1      0\n",
              "1        2     6        0.352193                   8      4\n",
              "2        3    12        0.506405                   2      4\n",
              "3        4     0        0.910978                   1      0\n",
              "4        5     2        0.009228                  11      4"
            ]
          },
          "execution_count": 47,
          "metadata": {},
          "output_type": "execute_result"
        }
      ],
      "source": [
        "#Check head\n",
        "data.head()"
      ]
    },
    {
      "cell_type": "code",
      "execution_count": 48,
      "metadata": {
        "colab": {
          "base_uri": "https://localhost:8080/",
          "height": 206
        },
        "id": "aydm9ySAjeNt",
        "outputId": "ba23256e-386d-406c-ab02-89a4ce0c5593"
      },
      "outputs": [
        {
          "data": {
            "text/html": [
              "<div>\n",
              "<style scoped>\n",
              "    .dataframe tbody tr th:only-of-type {\n",
              "        vertical-align: middle;\n",
              "    }\n",
              "\n",
              "    .dataframe tbody tr th {\n",
              "        vertical-align: top;\n",
              "    }\n",
              "\n",
              "    .dataframe thead th {\n",
              "        text-align: right;\n",
              "    }\n",
              "</style>\n",
              "<table border=\"1\" class=\"dataframe\">\n",
              "  <thead>\n",
              "    <tr style=\"text-align: right;\">\n",
              "      <th></th>\n",
              "      <th>User Id</th>\n",
              "      <th>Time</th>\n",
              "      <th>Win/Loss Ratio</th>\n",
              "      <th>Number of Deposits</th>\n",
              "      <th>label</th>\n",
              "    </tr>\n",
              "  </thead>\n",
              "  <tbody>\n",
              "    <tr>\n",
              "      <th>4995</th>\n",
              "      <td>4996</td>\n",
              "      <td>9</td>\n",
              "      <td>0.332550</td>\n",
              "      <td>5</td>\n",
              "      <td>3</td>\n",
              "    </tr>\n",
              "    <tr>\n",
              "      <th>4996</th>\n",
              "      <td>4997</td>\n",
              "      <td>10</td>\n",
              "      <td>1.298775</td>\n",
              "      <td>5</td>\n",
              "      <td>2</td>\n",
              "    </tr>\n",
              "    <tr>\n",
              "      <th>4997</th>\n",
              "      <td>4998</td>\n",
              "      <td>15</td>\n",
              "      <td>0.008806</td>\n",
              "      <td>20</td>\n",
              "      <td>5</td>\n",
              "    </tr>\n",
              "    <tr>\n",
              "      <th>4998</th>\n",
              "      <td>4999</td>\n",
              "      <td>10</td>\n",
              "      <td>0.716087</td>\n",
              "      <td>5</td>\n",
              "      <td>2</td>\n",
              "    </tr>\n",
              "    <tr>\n",
              "      <th>4999</th>\n",
              "      <td>5000</td>\n",
              "      <td>1</td>\n",
              "      <td>1.061353</td>\n",
              "      <td>1</td>\n",
              "      <td>0</td>\n",
              "    </tr>\n",
              "  </tbody>\n",
              "</table>\n",
              "</div>"
            ],
            "text/plain": [
              "      User Id  Time  Win/Loss Ratio  Number of Deposits  label\n",
              "4995     4996     9        0.332550                   5      3\n",
              "4996     4997    10        1.298775                   5      2\n",
              "4997     4998    15        0.008806                  20      5\n",
              "4998     4999    10        0.716087                   5      2\n",
              "4999     5000     1        1.061353                   1      0"
            ]
          },
          "execution_count": 48,
          "metadata": {},
          "output_type": "execute_result"
        }
      ],
      "source": [
        "data.tail()"
      ]
    },
    {
      "cell_type": "code",
      "execution_count": 50,
      "metadata": {
        "colab": {
          "base_uri": "https://localhost:8080/"
        },
        "id": "9VR2-VPwj_f8",
        "outputId": "fdd77613-1944-4989-f911-3957b93b4398"
      },
      "outputs": [
        {
          "name": "stdout",
          "output_type": "stream",
          "text": [
            "<class 'pandas.core.frame.DataFrame'>\n",
            "RangeIndex: 5000 entries, 0 to 4999\n",
            "Data columns (total 5 columns):\n",
            " #   Column              Non-Null Count  Dtype  \n",
            "---  ------              --------------  -----  \n",
            " 0   User Id             5000 non-null   int64  \n",
            " 1   Time                5000 non-null   int64  \n",
            " 2   Win/Loss Ratio      5000 non-null   float64\n",
            " 3   Number of Deposits  5000 non-null   int64  \n",
            " 4   label               5000 non-null   int64  \n",
            "dtypes: float64(1), int64(4)\n",
            "memory usage: 195.4 KB\n"
          ]
        }
      ],
      "source": [
        "data.info()"
      ]
    },
    {
      "cell_type": "code",
      "execution_count": 51,
      "metadata": {
        "colab": {
          "base_uri": "https://localhost:8080/"
        },
        "id": "BUA-x7yFmL_O",
        "outputId": "7ea45b5d-f2e2-4c61-a326-e6c5e45ca705"
      },
      "outputs": [
        {
          "data": {
            "text/plain": [
              "3    1066\n",
              "4    1017\n",
              "2     957\n",
              "0     754\n",
              "5     666\n",
              "1     540\n",
              "Name: label, dtype: int64"
            ]
          },
          "execution_count": 51,
          "metadata": {},
          "output_type": "execute_result"
        }
      ],
      "source": [
        "#Check number of players in each gamber category in our dataset\n",
        "data['label'].value_counts()"
      ]
    },
    {
      "cell_type": "code",
      "execution_count": 54,
      "metadata": {
        "colab": {
          "base_uri": "https://localhost:8080/",
          "height": 351
        },
        "id": "rxN50ClGmmGO",
        "outputId": "9c17a996-6e5d-47e4-dc43-40ef79e28acd"
      },
      "outputs": [
        {
          "data": {
            "image/png": "[encoded data removed]",
            "text/plain": [
              "<Figure size 432x288 with 1 Axes>"
            ]
          },
          "metadata": {
            "needs_background": "light"
          },
          "output_type": "display_data"
        }
      ],
      "source": [
        "sns.countplot(data['label'])\n",
        "plt.xlabel('Labels')\n",
        "plt.ylabel('Frequency')\n",
        "plt.title('Label frequency plot')\n",
        "plt.show()"
      ]
    },
    {
      "cell_type": "markdown",
      "metadata": {
        "id": "NxPyyPJjohBQ"
      },
      "source": [
        "Build model"
      ]
    },
    {
      "cell_type": "code",
      "execution_count": 55,
      "metadata": {
        "id": "rqEMKR1wonmn"
      },
      "outputs": [],
      "source": [
        "#Separate dependent and independent variables\n",
        "X = data.drop(['User Id','label'], axis = 1)\n",
        "Y = data['label']"
      ]
    },
    {
      "cell_type": "code",
      "execution_count": 56,
      "metadata": {
        "id": "9eIIiQh4pZiI"
      },
      "outputs": [],
      "source": [
        "#Split data into training data and testing data\n",
        "\n",
        "X_train, X_test, y_train, y_test = train_test_split(X, Y, test_size=0.2, random_state=42)"
      ]
    },
    {
      "cell_type": "code",
      "execution_count": 57,
      "metadata": {
        "colab": {
          "base_uri": "https://localhost:8080/"
        },
        "id": "N8dEOBEAr-1u",
        "outputId": "0ae4af82-bf30-4859-cfdd-b1c35620f99e"
      },
      "outputs": [
        {
          "data": {
            "text/plain": [
              "('Train Shape', (4000, 3), (4000,))"
            ]
          },
          "execution_count": 57,
          "metadata": {},
          "output_type": "execute_result"
        }
      ],
      "source": [
        "#Check shape of training and testing data\n",
        "'Train Shape', X_train.shape, y_train.shape"
      ]
    },
    {
      "cell_type": "code",
      "execution_count": 58,
      "metadata": {
        "colab": {
          "base_uri": "https://localhost:8080/"
        },
        "id": "3i9swq50yGZx",
        "outputId": "cda21a8d-1a90-4b57-a469-00cadfea54d0"
      },
      "outputs": [
        {
          "data": {
            "text/plain": [
              "('Test Shape', (1000, 3), (1000,))"
            ]
          },
          "execution_count": 58,
          "metadata": {},
          "output_type": "execute_result"
        }
      ],
      "source": [
        "'Test Shape', X_test.shape, y_test.shape"
      ]
    },
    {
      "cell_type": "markdown",
      "metadata": {
        "id": "ZfQY5SrhzKlT"
      },
      "source": [
        "Building our Decision Tree"
      ]
    },
    {
      "cell_type": "code",
      "execution_count": 59,
      "metadata": {
        "colab": {
          "base_uri": "https://localhost:8080/",
          "height": 75
        },
        "id": "vSEKHeb3zPnz",
        "outputId": "4a65ab00-26ff-4d19-86da-d63e6030f4f8"
      },
      "outputs": [
        {
          "data": {
            "text/plain": [
              "DecisionTreeClassifier()"
            ]
          },
          "execution_count": 59,
          "metadata": {},
          "output_type": "execute_result"
        }
      ],
      "source": [
        "model = DecisionTreeClassifier()\n",
        "model.fit(X_train, y_train)"
      ]
    },
    {
      "cell_type": "code",
      "execution_count": 60,
      "metadata": {
        "id": "b2VMucsm2t-0"
      },
      "outputs": [],
      "source": [
        "#Prediction for training and testing set\n",
        "tr_predict = model.predict(X_train)\n",
        "ts_predict = model.predict(X_test)"
      ]
    },
    {
      "cell_type": "code",
      "execution_count": 61,
      "metadata": {
        "colab": {
          "base_uri": "https://localhost:8080/"
        },
        "id": "MwJ_8j-y3JH4",
        "outputId": "1ce94fb6-eaef-4917-c0ba-dcfab44e3bcd"
      },
      "outputs": [
        {
          "data": {
            "text/plain": [
              "('Training Accuracy: ', 0.99825)"
            ]
          },
          "execution_count": 61,
          "metadata": {},
          "output_type": "execute_result"
        }
      ],
      "source": [
        "#Check accuracy for both training and testing data\n",
        "'Training Accuracy: ', accuracy_score(y_train,tr_predict)"
      ]
    },
    {
      "cell_type": "code",
      "execution_count": 69,
      "metadata": {
        "colab": {
          "base_uri": "https://localhost:8080/"
        },
        "id": "SkXce2ye4C9O",
        "outputId": "5a8078a2-7fc4-49b4-e8fb-66d0219f3883"
      },
      "outputs": [],
      "source": [
        "testingAccuracy = accuracy_score(y_test,ts_predict)"
      ]
    },
    {
      "cell_type": "code",
      "execution_count": 70,
      "metadata": {},
      "outputs": [],
      "source": [
        "precisionAccuracy = precision_score(y_test,ts_predict, average ='micro')"
      ]
    },
    {
      "cell_type": "code",
      "execution_count": 71,
      "metadata": {},
      "outputs": [],
      "source": [
        "recallAccuracy =  recall_score(y_test,ts_predict, average ='micro')"
      ]
    },
    {
      "cell_type": "code",
      "execution_count": 72,
      "metadata": {},
      "outputs": [],
      "source": [
        "fscore = f1_score(y_test,ts_predict, average ='micro')"
      ]
    },
    {
      "cell_type": "code",
      "execution_count": 74,
      "metadata": {},
      "outputs": [
        {
          "name": "stdout",
          "output_type": "stream",
          "text": [
            "Testing Accuracy:  0.82\n",
            "Precision Accuracy:  0.82\n",
            "Recall Accuracy:  0.82\n",
            "F- Measure:  0.82\n"
          ]
        }
      ],
      "source": [
        "print('Testing Accuracy: ',testingAccuracy)\n",
        "print('Precision Accuracy: ',precisionAccuracy)\n",
        "print('Recall Accuracy: ',recallAccuracy)\n",
        "print('F- Measure: ',fscore)"
      ]
    },
    {
      "cell_type": "code",
      "execution_count": 66,
      "metadata": {},
      "outputs": [
        {
          "data": {
            "image/png": "[encoded data removed]",
            "text/plain": [
              "<Figure size 432x288 with 2 Axes>"
            ]
          },
          "metadata": {
            "needs_background": "light"
          },
          "output_type": "display_data"
        }
      ],
      "source": [
        "# Generate confusion matrix\n",
        "cm = confusion_matrix(y_test,ts_predict)\n",
        "labels = ['True Neg','False Pos','False Neg','True Pos']\n",
        "\n",
        "cm = np.round(cm.astype('float') / cm.sum(axis=1)[:, np.newaxis], decimals=2)\n",
        "sns.heatmap(cm, annot=True, cmap='Blues', fmt='.2f')\n",
        "\n",
        "plt.xlabel('Predicted Labels')\n",
        "plt.ylabel('True Labels')\n",
        "plt.title('Confusion Matrix')\n",
        "\n",
        "# Show the plot\n",
        "plt.savefig('Confusion Matrix')\n",
        "plt.show()"
      ]
    },
    {
      "cell_type": "code",
      "execution_count": 23,
      "metadata": {
        "id": "Cm0EYqdg45m7"
      },
      "outputs": [],
      "source": [
        "from sklearn.tree import plot_tree\n",
        "plt.figure(figsize=(30,20), dpi=1000)\n",
        "plot_tree(model, filled = True, feature_names = X.columns)\n",
        "plt.savefig('Gamblers-Decision-Tree')\n",
        "plt.show()"
      ]
    },
    {
      "cell_type": "code",
      "execution_count": 67,
      "metadata": {
        "colab": {
          "base_uri": "https://localhost:8080/",
          "height": 143
        },
        "id": "gmpt62oqAZbF",
        "outputId": "ef6449b7-50dc-4477-b02c-2fbea4a241d1"
      },
      "outputs": [
        {
          "data": {
            "text/html": [
              "<div>\n",
              "<style scoped>\n",
              "    .dataframe tbody tr th:only-of-type {\n",
              "        vertical-align: middle;\n",
              "    }\n",
              "\n",
              "    .dataframe tbody tr th {\n",
              "        vertical-align: top;\n",
              "    }\n",
              "\n",
              "    .dataframe thead th {\n",
              "        text-align: right;\n",
              "    }\n",
              "</style>\n",
              "<table border=\"1\" class=\"dataframe\">\n",
              "  <thead>\n",
              "    <tr style=\"text-align: right;\">\n",
              "      <th></th>\n",
              "      <th>Features</th>\n",
              "      <th>Importance</th>\n",
              "    </tr>\n",
              "  </thead>\n",
              "  <tbody>\n",
              "    <tr>\n",
              "      <th>0</th>\n",
              "      <td>Time</td>\n",
              "      <td>0.379684</td>\n",
              "    </tr>\n",
              "    <tr>\n",
              "      <th>1</th>\n",
              "      <td>Win/Loss Ratio</td>\n",
              "      <td>0.421205</td>\n",
              "    </tr>\n",
              "    <tr>\n",
              "      <th>2</th>\n",
              "      <td>Number of Deposits</td>\n",
              "      <td>0.199112</td>\n",
              "    </tr>\n",
              "  </tbody>\n",
              "</table>\n",
              "</div>"
            ],
            "text/plain": [
              "             Features  Importance\n",
              "0                Time    0.379684\n",
              "1      Win/Loss Ratio    0.421205\n",
              "2  Number of Deposits    0.199112"
            ]
          },
          "execution_count": 67,
          "metadata": {},
          "output_type": "execute_result"
        }
      ],
      "source": [
        "# show importance of features in building tree\n",
        "df_importance = pd.DataFrame({'Features' : X.columns, 'Importance': model.feature_importances_})\n",
        "df_importance\n",
        "#The data shows that the most important feature that is considered is\n",
        "#the win/loss rate, then time spent gambling\n",
        "#which makes sense, right?"
      ]
    },
    {
      "cell_type": "code",
      "execution_count": 68,
      "metadata": {
        "id": "dbEK6Mw0CsuC"
      },
      "outputs": [],
      "source": [
        "#This block of code saves the model as a pickle file and downloads it\n",
        "import pickle\n",
        "with open('gambler_classify.pickle', 'wb') as f:\n",
        "  pickle.dump(model,f)"
      ]
    }
  ],
  "metadata": {
    "colab": {
      "provenance": []
    },
    "kernelspec": {
      "display_name": "Python 3.7.9 ('gamblerenv': venv)",
      "language": "python",
      "name": "python3"
    },
    "language_info": {
      "name": "python",
      "version": "3.7.9"
    },
    "vscode": {
      "interpreter": {
        "hash": "8c6dabfdf0241f62f2426a5997e1c55459e734845cf607100ba241a70fb0c0e2"
      }
    }
  },
  "nbformat": 4,
  "nbformat_minor": 0
}
