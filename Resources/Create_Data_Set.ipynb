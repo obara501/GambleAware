{
  "cells": [
    {
      "cell_type": "code",
      "execution_count": 1,
      "metadata": {
        "id": "4Vm0t9ZLQH48"
      },
      "outputs": [],
      "source": [
        "#Import relevant libraries \n",
        "\n",
        "from __future__ import print_function\n",
        "import pandas as pd\n",
        "import numpy as np\n",
        "import random"
      ]
    },
    {
      "cell_type": "code",
      "execution_count": 2,
      "metadata": {
        "id": "thspXQWJRptn"
      },
      "outputs": [],
      "source": [
        "#Create class player\n",
        "\n",
        "class Player:\n",
        "\n",
        "  #Constructor\n",
        "  def __init__(self, time, win_rate,nr_deposit, label):\n",
        "    self.time = time\n",
        "    self.win_rate = win_rate\n",
        "    self.nr_deposit = nr_deposit\n",
        "    self.label = label\n",
        "  \n",
        "  def get_player_params(self):\n",
        "    return [self.time, self.win_rate, self.nr_deposit, self.label]\n"
      ]
    },
    {
      "cell_type": "code",
      "execution_count": 3,
      "metadata": {
        "id": "4IRfdCxlW5Gv"
      },
      "outputs": [],
      "source": [
        "#Create player function\n",
        "\n",
        "def create_player_list(iteration_span, time_span, win_rate_span,\n",
        "                         nr_deposit, answer):\n",
        "    player_list = []\n",
        "    for x in range(random.randint(iteration_span[0], iteration_span[1])):\n",
        "      player_list.append(\n",
        "          Player(\n",
        "              random.randint(time_span[0], time_span[1]),\n",
        "              random.uniform(win_rate_span[0], win_rate_span[1]),\n",
        "              random.randint(nr_deposit[0], nr_deposit[1]),\n",
        "              answer).get_player_params())\n",
        "    return player_list\n",
        "    "
      ]
    },
    {
      "cell_type": "code",
      "execution_count": 4,
      "metadata": {
        "id": "R8FmDztpWfI3"
      },
      "outputs": [],
      "source": [
        "# Ctreate training data.\n",
        "training_data =  \\\n",
        "      create_player_list([400,1000], [0,3], [.8,3], [0,2], 0)+\\\n",
        "      create_player_list([400,1000], [1,2], [5,7], [2,3], 0)+\\\n",
        "      create_player_list([400,1000], [4,6], [5,7], [1,1], 0)+\\\n",
        "      create_player_list([400,1000], [0,1], [0.8,2], [0,2], 0)+\\\n",
        "      create_player_list([400,1000], [9,10], [8,12], [0,2], 0)+\\\n",
        "      create_player_list([400,1000], [1,2], [.7,1.3], [0,1], 0)+\\\n",
        "      create_player_list([400,1000], [3,5], [.7,1], [1,4], 1)+\\\n",
        "      create_player_list([400,1000], [6,7], [1, 1.1], [1,2], 1)+\\\n",
        "      create_player_list([400,1000], [1,2], [.8,1], [4,5], 1)+\\\n",
        "      create_player_list([400,1000], [0,2], [.5,.7], [2,3], 1)+\\\n",
        "      create_player_list([400,1000], [8,9], [1,1.2], [1,1], 1)+\\\n",
        "      create_player_list([400,1000], [2,4], [.6,1.5], [2,4], 1)+\\\n",
        "      create_player_list([400,1000], [4,7], [0.3,0.6], [1,2], 2)+\\\n",
        "      create_player_list([400,1000], [5,7], [.4, .5], [2,5], 2)+\\\n",
        "      create_player_list([400,1000], [0,3], [0.3,0.4], [1,3], 2)+\\\n",
        "      create_player_list([400,1000], [8,10], [.7,.9], [4,5], 2)+\\\n",
        "      create_player_list([400,1000], [9,11], [1,2], [0,1], 2)+\\\n",
        "      create_player_list([400,1000], [2,4], [.5,.7], [2,3], 2)+\\\n",
        "      create_player_list([400,1000], [7,9], [.4,.5], [3,6], 3)+\\\n",
        "      create_player_list([400,1000], [2,4], [.3,.4], [2,4], 3)+\\\n",
        "      create_player_list([400,1000], [6,10], [.5,.7], [5,8], 3)+\\\n",
        "      create_player_list([400,1000], [0,2], [0,.3], [6,8], 3)+\\\n",
        "      create_player_list([400,1000], [3,5], [.2,.3], [4,6], 3)+\\\n",
        "      create_player_list([400,1000], [7,8], [1,1.3], [4,5], 3)+\\\n",
        "      create_player_list([400,1000], [9,12], [.1,.2], [2,4], 4)+\\\n",
        "      create_player_list([400,1000], [5,8], [.2,.3], [5,7], 4)+\\\n",
        "      create_player_list([400,1000], [3,5], [.1,.3], [4,7], 4)+\\\n",
        "      create_player_list([400,1000], [2,4], [.1,.2], [8,12], 4)+\\\n",
        "      create_player_list([400,1000], [11,16], [1,4], [2,7], 4)+\\\n",
        "      create_player_list([400,1000], [6,10], [.3,.5], [7,9], 4)+\\\n",
        "      create_player_list([400,1000], [6,24], [0,0], [5,15], 5)+\\\n",
        "      create_player_list([400,1000], [6,24], [0, 0.05], [5,10],5)+\\\n",
        "      create_player_list([400,1000], [16,24], [0,.2], [4,22], 5)+\\\n",
        "      create_player_list([400,1000], [12,24], [0,.4], [5,20], 5)+\\\n",
        "      create_player_list([400,1000], [16,24], [1,2], [2,3], 5)+\\\n",
        "      create_player_list([400,1000], [0,24], [0,.1], [20,40], 5)"
      ]
    },
    {
      "cell_type": "code",
      "execution_count": 5,
      "metadata": {
        "id": "fLOWM1VQXpjJ"
      },
      "outputs": [],
      "source": [
        "#Package data into a pandas data frame\n",
        "df = pd.DataFrame(training_data)"
      ]
    },
    {
      "cell_type": "code",
      "execution_count": 6,
      "metadata": {
        "id": "MFS_oA74XvFX"
      },
      "outputs": [],
      "source": [
        "#Label dataframe columns\n",
        "df.columns = [\"Time\", \"Win/Loss Ratio\", \"Number of Deposits\", \"label\"]"
      ]
    },
    {
      "cell_type": "code",
      "execution_count": 7,
      "metadata": {
        "colab": {
          "base_uri": "https://localhost:8080/",
          "height": 424
        },
        "id": "DhVQKw9xYNpB",
        "outputId": "538dc5ba-259b-4c38-b6d1-726355570731"
      },
      "outputs": [
        {
          "data": {
            "text/html": [
              "<div>\n",
              "<style scoped>\n",
              "    .dataframe tbody tr th:only-of-type {\n",
              "        vertical-align: middle;\n",
              "    }\n",
              "\n",
              "    .dataframe tbody tr th {\n",
              "        vertical-align: top;\n",
              "    }\n",
              "\n",
              "    .dataframe thead th {\n",
              "        text-align: right;\n",
              "    }\n",
              "</style>\n",
              "<table border=\"1\" class=\"dataframe\">\n",
              "  <thead>\n",
              "    <tr style=\"text-align: right;\">\n",
              "      <th></th>\n",
              "      <th>Time</th>\n",
              "      <th>Win/Loss Ratio</th>\n",
              "      <th>Number of Deposits</th>\n",
              "      <th>label</th>\n",
              "    </tr>\n",
              "  </thead>\n",
              "  <tbody>\n",
              "    <tr>\n",
              "      <th>0</th>\n",
              "      <td>0</td>\n",
              "      <td>2.061242</td>\n",
              "      <td>1</td>\n",
              "      <td>0</td>\n",
              "    </tr>\n",
              "    <tr>\n",
              "      <th>1</th>\n",
              "      <td>3</td>\n",
              "      <td>1.432199</td>\n",
              "      <td>1</td>\n",
              "      <td>0</td>\n",
              "    </tr>\n",
              "    <tr>\n",
              "      <th>2</th>\n",
              "      <td>1</td>\n",
              "      <td>1.617004</td>\n",
              "      <td>0</td>\n",
              "      <td>0</td>\n",
              "    </tr>\n",
              "    <tr>\n",
              "      <th>3</th>\n",
              "      <td>3</td>\n",
              "      <td>2.805442</td>\n",
              "      <td>0</td>\n",
              "      <td>0</td>\n",
              "    </tr>\n",
              "    <tr>\n",
              "      <th>4</th>\n",
              "      <td>0</td>\n",
              "      <td>1.851855</td>\n",
              "      <td>2</td>\n",
              "      <td>0</td>\n",
              "    </tr>\n",
              "    <tr>\n",
              "      <th>...</th>\n",
              "      <td>...</td>\n",
              "      <td>...</td>\n",
              "      <td>...</td>\n",
              "      <td>...</td>\n",
              "    </tr>\n",
              "    <tr>\n",
              "      <th>25953</th>\n",
              "      <td>8</td>\n",
              "      <td>0.010847</td>\n",
              "      <td>30</td>\n",
              "      <td>5</td>\n",
              "    </tr>\n",
              "    <tr>\n",
              "      <th>25954</th>\n",
              "      <td>14</td>\n",
              "      <td>0.014221</td>\n",
              "      <td>39</td>\n",
              "      <td>5</td>\n",
              "    </tr>\n",
              "    <tr>\n",
              "      <th>25955</th>\n",
              "      <td>5</td>\n",
              "      <td>0.085212</td>\n",
              "      <td>25</td>\n",
              "      <td>5</td>\n",
              "    </tr>\n",
              "    <tr>\n",
              "      <th>25956</th>\n",
              "      <td>7</td>\n",
              "      <td>0.073986</td>\n",
              "      <td>21</td>\n",
              "      <td>5</td>\n",
              "    </tr>\n",
              "    <tr>\n",
              "      <th>25957</th>\n",
              "      <td>24</td>\n",
              "      <td>0.036839</td>\n",
              "      <td>33</td>\n",
              "      <td>5</td>\n",
              "    </tr>\n",
              "  </tbody>\n",
              "</table>\n",
              "<p>25958 rows × 4 columns</p>\n",
              "</div>"
            ],
            "text/plain": [
              "       Time  Win/Loss Ratio  Number of Deposits  label\n",
              "0         0        2.061242                   1      0\n",
              "1         3        1.432199                   1      0\n",
              "2         1        1.617004                   0      0\n",
              "3         3        2.805442                   0      0\n",
              "4         0        1.851855                   2      0\n",
              "...     ...             ...                 ...    ...\n",
              "25953     8        0.010847                  30      5\n",
              "25954    14        0.014221                  39      5\n",
              "25955     5        0.085212                  25      5\n",
              "25956     7        0.073986                  21      5\n",
              "25957    24        0.036839                  33      5\n",
              "\n",
              "[25958 rows x 4 columns]"
            ]
          },
          "execution_count": 7,
          "metadata": {},
          "output_type": "execute_result"
        }
      ],
      "source": [
        "#Return data frame\n",
        "df"
      ]
    },
    {
      "cell_type": "code",
      "execution_count": 8,
      "metadata": {
        "colab": {
          "base_uri": "https://localhost:8080/",
          "height": 17
        },
        "id": "4cQ7pooYY1GI",
        "outputId": "fc82ac0d-bfa5-4718-c7c9-3cb39ca5e63f"
      },
      "outputs": [],
      "source": [
        "#Save dataframe as a .csv file\n",
        "# from google.colab import files\n",
        "\n",
        "df.to_csv('testplayer.csv', index=False, encoding = 'utf-8-sig') \n",
        "# files.download('players.csv')\n"
      ]
    }
  ],
  "metadata": {
    "colab": {
      "provenance": []
    },
    "kernelspec": {
      "display_name": "gamblerenv",
      "language": "python",
      "name": "python3"
    },
    "language_info": {
      "codemirror_mode": {
        "name": "ipython",
        "version": 3
      },
      "file_extension": ".py",
      "mimetype": "text/x-python",
      "name": "python",
      "nbconvert_exporter": "python",
      "pygments_lexer": "ipython3",
      "version": "3.7.9"
    },
    "vscode": {
      "interpreter": {
        "hash": "8c6dabfdf0241f62f2426a5997e1c55459e734845cf607100ba241a70fb0c0e2"
      }
    }
  },
  "nbformat": 4,
  "nbformat_minor": 0
}
