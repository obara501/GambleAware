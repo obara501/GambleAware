{
  "nbformat": 4,
  "nbformat_minor": 0,
  "metadata": {
    "colab": {
      "provenance": []
    },
    "kernelspec": {
      "name": "python3",
      "display_name": "Python 3"
    },
    "language_info": {
      "name": "python"
    }
  },
  "cells": [
    {
      "cell_type": "code",
      "execution_count": null,
      "metadata": {
        "id": "4Vm0t9ZLQH48"
      },
      "outputs": [],
      "source": [
        "import pandas as pd\n",
        "import numpy as np\n",
        "import random\n",
        "from __future__ import print_function"
      ]
    },
    {
      "cell_type": "code",
      "source": [
        "class Player:\n",
        "  def __init__(self, time, win_rate,nr_deposit, label):\n",
        "    self.time = time\n",
        "    self.win_rate = win_rate\n",
        "    self.nr_deposit = nr_deposit\n",
        "    self.label = label\n",
        "\n",
        "  def get_player_params(self):\n",
        "    return [self.time, self.win_rate, self.nr_deposit, self.label]\n"
      ],
      "metadata": {
        "id": "thspXQWJRptn"
      },
      "execution_count": null,
      "outputs": []
    },
    {
      "cell_type": "code",
      "source": [
        "def create_player_list(iteration_span, time_span, win_rate_span,\n",
        "                         nr_deposit, answer):\n",
        "    player_list = []\n",
        "    for x in range(random.randint(iteration_span[0], iteration_span[1])):\n",
        "      player_list.append(\n",
        "          Player(\n",
        "              random.randint(time_span[0], time_span[1]),\n",
        "              random.uniform(win_rate_span[0], win_rate_span[1]),\n",
        "              random.randint(nr_deposit[0], nr_deposit[1]),\n",
        "              answer).get_player_params())\n",
        "    return player_list\n",
        "    "
      ],
      "metadata": {
        "id": "4IRfdCxlW5Gv"
      },
      "execution_count": null,
      "outputs": []
    },
    {
      "cell_type": "code",
      "source": [
        "training_data =  \\\n",
        "      create_player_list([400,1000], [0,3], [.8,3], [0,2], 0)+\\\n",
        "      create_player_list([400,1000], [1,2], [5,7], [2,3], 0)+\\\n",
        "      create_player_list([400,1000], [4,6], [5,7], [1,1], 0)+\\\n",
        "      create_player_list([400,1000], [0,1], [0.8,2], [0,2], 0)+\\\n",
        "      create_player_list([400,1000], [9,10], [8,12], [0,2], 0)+\\\n",
        "      create_player_list([400,1000], [1,2], [.7,1.3], [0,1], 0)+\\\n",
        "      create_player_list([400,1000], [3,5], [.7,1], [1,4], 1)+\\\n",
        "      create_player_list([400,1000], [6,7], [1, 1.1], [1,2], 1)+\\\n",
        "      create_player_list([400,1000], [1,2], [.8,1], [4,5], 1)+\\\n",
        "      create_player_list([400,1000], [0,2], [.5,.7], [2,3], 1)+\\\n",
        "      create_player_list([400,1000], [8,9], [1,1.2], [1,1], 1)+\\\n",
        "      create_player_list([400,1000], [2,4], [.6,1.5], [2,4], 1)+\\\n",
        "      create_player_list([400,1000], [4,7], [0.3,0.6], [1,2], 2)+\\\n",
        "      create_player_list([400,1000], [5,7], [.4, .5], [2,5], 2)+\\\n",
        "      create_player_list([400,1000], [0,3], [0.3,0.4], [1,3], 2)+\\\n",
        "      create_player_list([400,1000], [8,10], [.7,.9], [4,5], 2)+\\\n",
        "      create_player_list([400,1000], [9,11], [1,2], [0,1], 2)+\\\n",
        "      create_player_list([400,1000], [2,4], [.5,.7], [2,3], 2)+\\\n",
        "      create_player_list([400,1000], [7,9], [.4,.5], [3,6], 3)+\\\n",
        "      create_player_list([400,1000], [2,4], [.3,.4], [2,4], 3)+\\\n",
        "      create_player_list([400,1000], [6,10], [.5,.7], [5,8], 3)+\\\n",
        "      create_player_list([400,1000], [0,2], [0,.3], [6,8], 3)+\\\n",
        "      create_player_list([400,1000], [3,5], [.2,.3], [4,6], 3)+\\\n",
        "      create_player_list([400,1000], [7,8], [1,1.3], [4,5], 3)+\\\n",
        "      create_player_list([400,1000], [9,12], [.1,.2], [2,4], 4)+\\\n",
        "      create_player_list([400,1000], [5,8], [.2,.3], [5,7], 4)+\\\n",
        "      create_player_list([400,1000], [3,5], [.1,.3], [4,7], 4)+\\\n",
        "      create_player_list([400,1000], [2,4], [.1,.2], [8,12], 4)+\\\n",
        "      create_player_list([400,1000], [11,16], [1,4], [2,7], 4)+\\\n",
        "      create_player_list([400,1000], [6,10], [.3,.5], [7,9], 4)+\\\n",
        "      create_player_list([400,1000], [6,24], [0,0], [5,15], 5)+\\\n",
        "      create_player_list([400,1000], [6,24], [0, 0.05], [5,10],5)+\\\n",
        "      create_player_list([400,1000], [16,24], [0,.2], [4,22], 5)+\\\n",
        "      create_player_list([400,1000], [12,24], [0,.4], [5,20], 5)+\\\n",
        "      create_player_list([400,1000], [16,24], [1,2], [2,3], 5)+\\\n",
        "      create_player_list([400,1000], [0,24], [0,.1], [20,40], 5)"
      ],
      "metadata": {
        "id": "R8FmDztpWfI3"
      },
      "execution_count": null,
      "outputs": []
    },
    {
      "cell_type": "code",
      "source": [
        "df = pd.DataFrame(training_data)"
      ],
      "metadata": {
        "id": "fLOWM1VQXpjJ"
      },
      "execution_count": null,
      "outputs": []
    },
    {
      "cell_type": "code",
      "source": [
        "df.columns = [\"Time\", \"Win/Loss Ratio\", \"Number of Deposits\", \"label\"]"
      ],
      "metadata": {
        "id": "MFS_oA74XvFX"
      },
      "execution_count": null,
      "outputs": []
    },
    {
      "cell_type": "code",
      "source": [
        "df"
      ],
      "metadata": {
        "id": "DhVQKw9xYNpB",
        "colab": {
          "base_uri": "https://localhost:8080/",
          "height": 424
        },
        "outputId": "538dc5ba-259b-4c38-b6d1-726355570731"
      },
      "execution_count": null,
      "outputs": [
        {
          "output_type": "execute_result",
          "data": {
            "text/plain": [
              "       Time  Win/Loss Ratio  Number of Deposits  label\n",
              "0         1        1.756696                   1      0\n",
              "1         0        1.612995                   1      0\n",
              "2         1        2.526176                   2      0\n",
              "3         2        2.045361                   2      0\n",
              "4         0        2.824066                   0      0\n",
              "...     ...             ...                 ...    ...\n",
              "24467    16        0.064482                  35      5\n",
              "24468     6        0.063409                  32      5\n",
              "24469    24        0.087549                  26      5\n",
              "24470    15        0.080995                  38      5\n",
              "24471     6        0.037278                  40      5\n",
              "\n",
              "[24472 rows x 4 columns]"
            ],
            "text/html": [
              "\n",
              "  <div id=\"df-c28e2baa-e7ac-403f-9462-8a0b60533403\">\n",
              "    <div class=\"colab-df-container\">\n",
              "      <div>\n",
              "<style scoped>\n",
              "    .dataframe tbody tr th:only-of-type {\n",
              "        vertical-align: middle;\n",
              "    }\n",
              "\n",
              "    .dataframe tbody tr th {\n",
              "        vertical-align: top;\n",
              "    }\n",
              "\n",
              "    .dataframe thead th {\n",
              "        text-align: right;\n",
              "    }\n",
              "</style>\n",
              "<table border=\"1\" class=\"dataframe\">\n",
              "  <thead>\n",
              "    <tr style=\"text-align: right;\">\n",
              "      <th></th>\n",
              "      <th>Time</th>\n",
              "      <th>Win/Loss Ratio</th>\n",
              "      <th>Number of Deposits</th>\n",
              "      <th>label</th>\n",
              "    </tr>\n",
              "  </thead>\n",
              "  <tbody>\n",
              "    <tr>\n",
              "      <th>0</th>\n",
              "      <td>1</td>\n",
              "      <td>1.756696</td>\n",
              "      <td>1</td>\n",
              "      <td>0</td>\n",
              "    </tr>\n",
              "    <tr>\n",
              "      <th>1</th>\n",
              "      <td>0</td>\n",
              "      <td>1.612995</td>\n",
              "      <td>1</td>\n",
              "      <td>0</td>\n",
              "    </tr>\n",
              "    <tr>\n",
              "      <th>2</th>\n",
              "      <td>1</td>\n",
              "      <td>2.526176</td>\n",
              "      <td>2</td>\n",
              "      <td>0</td>\n",
              "    </tr>\n",
              "    <tr>\n",
              "      <th>3</th>\n",
              "      <td>2</td>\n",
              "      <td>2.045361</td>\n",
              "      <td>2</td>\n",
              "      <td>0</td>\n",
              "    </tr>\n",
              "    <tr>\n",
              "      <th>4</th>\n",
              "      <td>0</td>\n",
              "      <td>2.824066</td>\n",
              "      <td>0</td>\n",
              "      <td>0</td>\n",
              "    </tr>\n",
              "    <tr>\n",
              "      <th>...</th>\n",
              "      <td>...</td>\n",
              "      <td>...</td>\n",
              "      <td>...</td>\n",
              "      <td>...</td>\n",
              "    </tr>\n",
              "    <tr>\n",
              "      <th>24467</th>\n",
              "      <td>16</td>\n",
              "      <td>0.064482</td>\n",
              "      <td>35</td>\n",
              "      <td>5</td>\n",
              "    </tr>\n",
              "    <tr>\n",
              "      <th>24468</th>\n",
              "      <td>6</td>\n",
              "      <td>0.063409</td>\n",
              "      <td>32</td>\n",
              "      <td>5</td>\n",
              "    </tr>\n",
              "    <tr>\n",
              "      <th>24469</th>\n",
              "      <td>24</td>\n",
              "      <td>0.087549</td>\n",
              "      <td>26</td>\n",
              "      <td>5</td>\n",
              "    </tr>\n",
              "    <tr>\n",
              "      <th>24470</th>\n",
              "      <td>15</td>\n",
              "      <td>0.080995</td>\n",
              "      <td>38</td>\n",
              "      <td>5</td>\n",
              "    </tr>\n",
              "    <tr>\n",
              "      <th>24471</th>\n",
              "      <td>6</td>\n",
              "      <td>0.037278</td>\n",
              "      <td>40</td>\n",
              "      <td>5</td>\n",
              "    </tr>\n",
              "  </tbody>\n",
              "</table>\n",
              "<p>24472 rows × 4 columns</p>\n",
              "</div>\n",
              "      <button class=\"colab-df-convert\" onclick=\"convertToInteractive('df-c28e2baa-e7ac-403f-9462-8a0b60533403')\"\n",
              "              title=\"Convert this dataframe to an interactive table.\"\n",
              "              style=\"display:none;\">\n",
              "        \n",
              "  <svg xmlns=\"http://www.w3.org/2000/svg\" height=\"24px\"viewBox=\"0 0 24 24\"\n",
              "       width=\"24px\">\n",
              "    <path d=\"M0 0h24v24H0V0z\" fill=\"none\"/>\n",
              "    <path d=\"M18.56 5.44l.94 2.06.94-2.06 2.06-.94-2.06-.94-.94-2.06-.94 2.06-2.06.94zm-11 1L8.5 8.5l.94-2.06 2.06-.94-2.06-.94L8.5 2.5l-.94 2.06-2.06.94zm10 10l.94 2.06.94-2.06 2.06-.94-2.06-.94-.94-2.06-.94 2.06-2.06.94z\"/><path d=\"M17.41 7.96l-1.37-1.37c-.4-.4-.92-.59-1.43-.59-.52 0-1.04.2-1.43.59L10.3 9.45l-7.72 7.72c-.78.78-.78 2.05 0 2.83L4 21.41c.39.39.9.59 1.41.59.51 0 1.02-.2 1.41-.59l7.78-7.78 2.81-2.81c.8-.78.8-2.07 0-2.86zM5.41 20L4 18.59l7.72-7.72 1.47 1.35L5.41 20z\"/>\n",
              "  </svg>\n",
              "      </button>\n",
              "      \n",
              "  <style>\n",
              "    .colab-df-container {\n",
              "      display:flex;\n",
              "      flex-wrap:wrap;\n",
              "      gap: 12px;\n",
              "    }\n",
              "\n",
              "    .colab-df-convert {\n",
              "      background-color: #E8F0FE;\n",
              "      border: none;\n",
              "      border-radius: 50%;\n",
              "      cursor: pointer;\n",
              "      display: none;\n",
              "      fill: #1967D2;\n",
              "      height: 32px;\n",
              "      padding: 0 0 0 0;\n",
              "      width: 32px;\n",
              "    }\n",
              "\n",
              "    .colab-df-convert:hover {\n",
              "      background-color: #E2EBFA;\n",
              "      box-shadow: 0px 1px 2px rgba(60, 64, 67, 0.3), 0px 1px 3px 1px rgba(60, 64, 67, 0.15);\n",
              "      fill: #174EA6;\n",
              "    }\n",
              "\n",
              "    [theme=dark] .colab-df-convert {\n",
              "      background-color: #3B4455;\n",
              "      fill: #D2E3FC;\n",
              "    }\n",
              "\n",
              "    [theme=dark] .colab-df-convert:hover {\n",
              "      background-color: #434B5C;\n",
              "      box-shadow: 0px 1px 3px 1px rgba(0, 0, 0, 0.15);\n",
              "      filter: drop-shadow(0px 1px 2px rgba(0, 0, 0, 0.3));\n",
              "      fill: #FFFFFF;\n",
              "    }\n",
              "  </style>\n",
              "\n",
              "      <script>\n",
              "        const buttonEl =\n",
              "          document.querySelector('#df-c28e2baa-e7ac-403f-9462-8a0b60533403 button.colab-df-convert');\n",
              "        buttonEl.style.display =\n",
              "          google.colab.kernel.accessAllowed ? 'block' : 'none';\n",
              "\n",
              "        async function convertToInteractive(key) {\n",
              "          const element = document.querySelector('#df-c28e2baa-e7ac-403f-9462-8a0b60533403');\n",
              "          const dataTable =\n",
              "            await google.colab.kernel.invokeFunction('convertToInteractive',\n",
              "                                                     [key], {});\n",
              "          if (!dataTable) return;\n",
              "\n",
              "          const docLinkHtml = 'Like what you see? Visit the ' +\n",
              "            '<a target=\"_blank\" href=https://colab.research.google.com/notebooks/data_table.ipynb>data table notebook</a>'\n",
              "            + ' to learn more about interactive tables.';\n",
              "          element.innerHTML = '';\n",
              "          dataTable['output_type'] = 'display_data';\n",
              "          await google.colab.output.renderOutput(dataTable, element);\n",
              "          const docLink = document.createElement('div');\n",
              "          docLink.innerHTML = docLinkHtml;\n",
              "          element.appendChild(docLink);\n",
              "        }\n",
              "      </script>\n",
              "    </div>\n",
              "  </div>\n",
              "  "
            ]
          },
          "metadata": {},
          "execution_count": 7
        }
      ]
    },
    {
      "cell_type": "code",
      "source": [
        "\n",
        "from google.colab import files\n",
        "\n",
        "df.to_csv('players.csv', index=False, encoding = 'utf-8-sig') \n",
        "files.download('players.csv')\n"
      ],
      "metadata": {
        "colab": {
          "base_uri": "https://localhost:8080/",
          "height": 17
        },
        "id": "4cQ7pooYY1GI",
        "outputId": "fc82ac0d-bfa5-4718-c7c9-3cb39ca5e63f"
      },
      "execution_count": null,
      "outputs": [
        {
          "output_type": "display_data",
          "data": {
            "text/plain": [
              "<IPython.core.display.Javascript object>"
            ],
            "application/javascript": [
              "\n",
              "    async function download(id, filename, size) {\n",
              "      if (!google.colab.kernel.accessAllowed) {\n",
              "        return;\n",
              "      }\n",
              "      const div = document.createElement('div');\n",
              "      const label = document.createElement('label');\n",
              "      label.textContent = `Downloading \"${filename}\": `;\n",
              "      div.appendChild(label);\n",
              "      const progress = document.createElement('progress');\n",
              "      progress.max = size;\n",
              "      div.appendChild(progress);\n",
              "      document.body.appendChild(div);\n",
              "\n",
              "      const buffers = [];\n",
              "      let downloaded = 0;\n",
              "\n",
              "      const channel = await google.colab.kernel.comms.open(id);\n",
              "      // Send a message to notify the kernel that we're ready.\n",
              "      channel.send({})\n",
              "\n",
              "      for await (const message of channel.messages) {\n",
              "        // Send a message to notify the kernel that we're ready.\n",
              "        channel.send({})\n",
              "        if (message.buffers) {\n",
              "          for (const buffer of message.buffers) {\n",
              "            buffers.push(buffer);\n",
              "            downloaded += buffer.byteLength;\n",
              "            progress.value = downloaded;\n",
              "          }\n",
              "        }\n",
              "      }\n",
              "      const blob = new Blob(buffers, {type: 'application/binary'});\n",
              "      const a = document.createElement('a');\n",
              "      a.href = window.URL.createObjectURL(blob);\n",
              "      a.download = filename;\n",
              "      div.appendChild(a);\n",
              "      a.click();\n",
              "      div.remove();\n",
              "    }\n",
              "  "
            ]
          },
          "metadata": {}
        },
        {
          "output_type": "display_data",
          "data": {
            "text/plain": [
              "<IPython.core.display.Javascript object>"
            ],
            "application/javascript": [
              "download(\"download_8c928891-f375-4a26-90ff-5426fb7ff6a3\", \"players.csv\", 611774)"
            ]
          },
          "metadata": {}
        }
      ]
    }
  ]
}